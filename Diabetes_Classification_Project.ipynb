{
 "cells": [
  {
   "cell_type": "markdown",
   "id": "2b23bf37",
   "metadata": {},
   "source": [
    "# Klasyfikacja ryzyka cukrzycy na podstawie wskaźników zdrowotnych\n",
    "**Autorzy:** *Imię Nazwisko*\n",
    "\n",
    "Projekt realizowany w ramach przedmiotu **Metody Analizy Danych**. Celem jest predykcja wystąpienia cukrzycy w oparciu o zestaw wskaźników zdrowotnych pochodzących z BRFSS 2015."
   ]
  },
  {
   "cell_type": "code",
   "execution_count": null,
   "id": "581cd253",
   "metadata": {},
   "outputs": [],
   "source": [
    "import pandas as pd\n",
    "import numpy as np\n",
    "import matplotlib.pyplot as plt\n",
    "import seaborn as sns\n",
    "\n",
    "from sklearn.model_selection import train_test_split, cross_val_score, StratifiedKFold\n",
    "from sklearn.preprocessing import StandardScaler\n",
    "from sklearn.linear_model import LogisticRegression\n",
    "from sklearn.ensemble import RandomForestClassifier, BaggingClassifier\n",
    "from sklearn.svm import SVC\n",
    "from sklearn.neighbors import KNeighborsClassifier\n",
    "from sklearn.metrics import accuracy_score, f1_score, roc_auc_score, confusion_matrix\n",
    "from imblearn.over_sampling import SMOTE\n",
    "import warnings\n",
    "warnings.filterwarnings('ignore')\n"
   ]
  },
  {
   "cell_type": "code",
   "execution_count": null,
   "id": "6e4cea47",
   "metadata": {},
   "outputs": [],
   "source": [
    "df = pd.read_csv(\"diabetes_012_health_indicators_BRFSS2015.csv\")\n",
    "print(\"Rozmiar danych:\", df.shape)\n",
    "df.head()"
   ]
  },
  {
   "cell_type": "code",
   "execution_count": null,
   "id": "365cb1b2",
   "metadata": {},
   "outputs": [],
   "source": [
    "# Mapowanie 3-klasowego celu na zmienną binarną\n",
    "df[\"Diabetes_binary\"] = df[\"Diabetes_012\"].map(lambda x: 1 if x > 0 else 0)\n",
    "\n",
    "# Obsługa outlierów w BMI\n",
    "q_low = df[\"BMI\"].quantile(0.01)\n",
    "q_hi = df[\"BMI\"].quantile(0.99)\n",
    "df = df[(df[\"BMI\"] >= q_low) & (df[\"BMI\"] <= q_hi)]\n",
    "\n",
    "# Dane i etykiety\n",
    "X = df.drop(columns=[\"Diabetes_012\", \"Diabetes_binary\"])\n",
    "y = df[\"Diabetes_binary\"]\n",
    "\n",
    "# Standaryzacja zmiennych ilościowych\n",
    "scaler = StandardScaler()\n",
    "X_scaled = scaler.fit_transform(X)\n",
    "\n",
    "print(\"Dane przygotowane.\")"
   ]
  },
  {
   "cell_type": "code",
   "execution_count": null,
   "id": "0dc859c2",
   "metadata": {},
   "outputs": [],
   "source": [
    "X_train, X_test, y_train, y_test = train_test_split(X_scaled, y, test_size=0.2, stratify=y, random_state=42)"
   ]
  },
  {
   "cell_type": "code",
   "execution_count": null,
   "id": "4de4a8a7",
   "metadata": {},
   "outputs": [],
   "source": [
    "logreg = LogisticRegression(max_iter=1000)\n",
    "rf = RandomForestClassifier(n_estimators=100, max_features='sqrt', random_state=42)\n",
    "svm = SVC(probability=True)\n",
    "knn = KNeighborsClassifier(n_neighbors=5)\n",
    "\n",
    "models = {'Logistic': logreg, 'Random Forest': rf, 'SVM': svm, 'kNN': knn}\n",
    "\n",
    "for name, model in models.items():\n",
    "    model.fit(X_train, y_train)\n",
    "    print(f\"{name} trained.\")"
   ]
  },
  {
   "cell_type": "code",
   "execution_count": null,
   "id": "acc3a3e6",
   "metadata": {},
   "outputs": [],
   "source": [
    "y_proba_log = logreg.predict_proba(X_test)[:, 1]\n",
    "y_proba_rf = rf.predict_proba(X_test)[:, 1]\n",
    "y_proba_svm = svm.predict_proba(X_test)[:, 1]\n",
    "y_proba_knn = knn.predict_proba(X_test)[:, 1]\n",
    "\n",
    "y_proba_hybrid = (y_proba_log + y_proba_rf + y_proba_svm + y_proba_knn) / 4\n",
    "y_pred_hybrid = (y_proba_hybrid > 0.5).astype(int)"
   ]
  },
  {
   "cell_type": "code",
   "execution_count": null,
   "id": "b6ae07cc",
   "metadata": {},
   "outputs": [],
   "source": [
    "def print_metrics(y_true, y_pred, y_proba, model_name):\n",
    "    print(f\"\\n--- {model_name} ---\")\n",
    "    print(\"Accuracy:\", accuracy_score(y_true, y_pred))\n",
    "    print(\"F1 Score:\", f1_score(y_true, y_pred))\n",
    "    print(\"ROC AUC:\", roc_auc_score(y_true, y_proba))\n",
    "    print(\"Confusion Matrix:\\n\", confusion_matrix(y_true, y_pred))\n",
    "\n",
    "print_metrics(y_test, logreg.predict(X_test), y_proba_log, \"Logistic Regression\")\n",
    "print_metrics(y_test, rf.predict(X_test), y_proba_rf, \"Random Forest\")\n",
    "print_metrics(y_test, svm.predict(X_test), y_proba_svm, \"SVM\")\n",
    "print_metrics(y_test, knn.predict(X_test), y_proba_knn, \"kNN\")\n",
    "print_metrics(y_test, y_pred_hybrid, y_proba_hybrid, \"Hybrid Model\")"
   ]
  },
  {
   "cell_type": "code",
   "execution_count": null,
   "id": "44230ad9",
   "metadata": {},
   "outputs": [],
   "source": [
    "cv = StratifiedKFold(n_splits=5, shuffle=True, random_state=42)\n",
    "cv_score = cross_val_score(logreg, X_scaled, y, cv=cv, scoring='roc_auc')\n",
    "print(\"Średni wynik ROC AUC (Logistic Regression, CV):\", cv_score.mean())"
   ]
  },
  {
   "cell_type": "code",
   "execution_count": null,
   "id": "7fff8574",
   "metadata": {},
   "outputs": [],
   "source": [
    "sm = SMOTE(random_state=42)\n",
    "X_res, y_res = sm.fit_resample(X_scaled, y)\n",
    "print(\"Rozmiar po SMOTE:\", X_res.shape, y_res.shape)"
   ]
  },
  {
   "cell_type": "code",
   "execution_count": null,
   "id": "02145f08",
   "metadata": {},
   "outputs": [],
   "source": [
    "bagging = BaggingClassifier(base_estimator=DecisionTreeClassifier(), n_estimators=50, random_state=42)\n",
    "bagging.fit(X_train, y_train)\n",
    "y_proba_bag = bagging.predict_proba(X_test)[:, 1]\n",
    "print_metrics(y_test, bagging.predict(X_test), y_proba_bag, \"Bagging Classifier\")"
   ]
  }
 ],
 "metadata": {},
 "nbformat": 4,
 "nbformat_minor": 5
}
