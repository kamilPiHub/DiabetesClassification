{
 "cells": [
  {
   "cell_type": "markdown",
   "id": "d1be9a61",
   "metadata": {},
   "source": [
    "## Import bibliotek\n",
    "\n",
    "W tej sekcji importowane są wszystkie potrzebne biblioteki, w tym:\n",
    "- `pandas`, `numpy` – do manipulacji danymi\n",
    "- `matplotlib.pyplot`, `seaborn` – do wizualizacji\n",
    "- `sklearn` – do budowy modeli klasyfikacyjnych\n",
    "- `imblearn` – do obsługi niezbalansowanych danych (SMOTE)"
   ]
  },
  {
   "cell_type": "code",
   "execution_count": null,
   "id": "27c90220",
   "metadata": {},
   "outputs": [],
   "source": [
    "import pandas as pd\n",
    "import numpy as np\n",
    "import matplotlib.pyplot as plt\n",
    "import seaborn as sns\n",
    "from scipy.stats import skew\n",
    "from sklearn.model_selection import train_test_split, cross_val_score\n",
    "from sklearn.preprocessing import MinMaxScaler\n",
    "from sklearn.metrics import confusion_matrix, roc_auc_score, accuracy_score, f1_score, classification_report\n",
    "from sklearn.neighbors import KNeighborsClassifier\n",
    "from sklearn.tree import DecisionTreeClassifier\n",
    "from sklearn.ensemble import RandomForestClassifier\n",
    "from imblearn.over_sampling import SMOTE\n",
    "\n",
    "import warnings\n",
    "warnings.filterwarnings('ignore')\n",
    "import os\n",
    "os.environ['LOKY_MAX_CPU_COUNT'] = '4'"
   ]
  },
  {
   "cell_type": "markdown",
   "id": "ba128770",
   "metadata": {},
   "source": [
    "## Wczytanie i eksploracja danych\n",
    "\n",
    "Dane są wczytywane z pliku CSV, a następnie:\n",
    "- sprawdzana jest zmienna docelowa i objaśniające,\n",
    "- prezentowane są statystyki opisowe wraz ze skośnością,\n",
    "- wyświetlane są podstawowe wykresy (rozkład klas, histogramy cech)."
   ]
  },
  {
   "cell_type": "code",
   "execution_count": null,
   "id": "a4b9f7d6",
   "metadata": {},
   "outputs": [],
   "source": [
    "df = pd.read_csv(\"diabetes_012_health_indicators_BRFSS2015.csv\")\n",
    "print(\"Zmienna docelowa:\", \"Diabetes_012\")\n",
    "print(\"Zmiennie objaśniające:\", list(df.columns.difference(['Diabetes_012'])))\n",
    "\n",
    "desc = df.describe().T\n",
    "desc[\"skewness\"] = df.skew()\n",
    "print(desc[[\"mean\", \"50%\", \"min\", \"max\", \"std\", \"skewness\"]])\n",
    "\n",
    "plt.figure(figsize=(10, 5))\n",
    "sns.countplot(x=\"Diabetes_012\", data=df)\n",
    "plt.title(\"Rozkład klas\")\n",
    "plt.show()\n",
    "\n",
    "df.drop('Diabetes_012', axis=1).hist(bins=20, figsize=(12, 8))\n",
    "plt.tight_layout()\n",
    "plt.show()"
   ]
  },
  {
   "cell_type": "markdown",
   "id": "7b6f9e20",
   "metadata": {},
   "source": [
    "## Przygotowanie danych\n",
    "\n",
    "- Sprawdzanie braków danych\n",
    "- Transformacja zmiennych o wysokiej skośności (`log1p`)\n",
    "- Skalowanie (`MinMaxScaler`)\n",
    "- Usuwanie obserwacji odstających na podstawie IQR\n",
    "- Podział na zbiór treningowy i testowy (z zachowaniem proporcji klas)\n",
    "- Zastosowanie SMOTE do zrównoważenia klas"
   ]
  },
  {
   "cell_type": "code",
   "execution_count": null,
   "id": "332de2d2",
   "metadata": {},
   "outputs": [],
   "source": [
    "print(\"Braki danych:\", df.isnull().sum().sum())\n",
    "\n",
    "skewed_cols = df.drop(\"Diabetes_012\", axis=1).apply(lambda x: skew(x)).sort_values(ascending=False)\n",
    "print(\"Skośne kolumny (>1):\\n\", skewed_cols[skewed_cols > 1])\n",
    "\n",
    "df_log = df.copy()\n",
    "log_cols = skewed_cols[skewed_cols > 1].index\n",
    "df_log[log_cols] = df_log[log_cols].apply(lambda x: np.log1p(x))\n",
    "\n",
    "X = df_log.drop(columns=[\"Diabetes_012\"])\n",
    "y = df_log[\"Diabetes_012\"].apply(lambda x: 0 if x == 0 else 1)\n",
    "\n",
    "scaler = MinMaxScaler()\n",
    "X_scaled = pd.DataFrame(scaler.fit_transform(X), columns=X.columns)\n",
    "\n",
    "Q1 = X_scaled.quantile(0.25)\n",
    "Q3 = X_scaled.quantile(0.75)\n",
    "IQR = Q3 - Q1\n",
    "mask = ~((X_scaled < (Q1 - 1.5 * IQR)) | (X_scaled > (Q3 + 1.5 * IQR))).any(axis=1)\n",
    "X_scaled = X_scaled[mask]\n",
    "y = y[mask]\n",
    "\n",
    "X_train, X_test, y_train, y_test = train_test_split(X_scaled, y, test_size=0.25, stratify=y, random_state=42)\n",
    "\n",
    "sm = SMOTE(random_state=42)\n",
    "X_train_res, y_train_res = sm.fit_resample(X_train, y_train)"
   ]
  },
  {
   "cell_type": "markdown",
   "id": "bccb985a",
   "metadata": {},
   "source": [
    "## Trenowanie modeli\n",
    "\n",
    "Trenowane są trzy różne klasyfikatory:\n",
    "- **kNN (k-Nearest Neighbors)** – przypisuje klasę na podstawie większości sąsiadów.\n",
    "- **Drzewo decyzyjne (Decision Tree)** – podejmuje decyzje na podstawie warunków logicznych.\n",
    "- **Las losowy (Random Forest)** – agreguje wiele drzew, poprawiając stabilność i dokładność."
   ]
  },
  {
   "cell_type": "code",
   "execution_count": null,
   "id": "d0b19999",
   "metadata": {},
   "outputs": [],
   "source": [
    "model_knn = KNeighborsClassifier(n_neighbors=5)\n",
    "model_knn.fit(X_train_res, y_train_res)\n",
    "\n",
    "model_tree = DecisionTreeClassifier(max_depth=5, random_state=42)\n",
    "model_tree.fit(X_train_res, y_train_res)\n",
    "\n",
    "model_rf = RandomForestClassifier(n_estimators=100, random_state=42)\n",
    "model_rf.fit(X_train_res, y_train_res)"
   ]
  },
  {
   "cell_type": "markdown",
   "id": "e702e6c9",
   "metadata": {},
   "source": [
    "## Predykcje i model hybrydowy\n",
    "\n",
    "Tworzone są predykcje na danych testowych dla każdego modelu. Następnie budowany jest model hybrydowy jako średnia ważona prawdopodobieństw pochodzących z trzech klasyfikatorów."
   ]
  },
  {
   "cell_type": "code",
   "execution_count": null,
   "id": "45d42a57",
   "metadata": {},
   "outputs": [],
   "source": [
    "probs_rf = model_rf.predict_proba(X_test)[:, 1]\n",
    "probs_tree = model_tree.predict_proba(X_test)[:, 1]\n",
    "probs_knn = model_knn.predict_proba(X_test)[:, 1]\n",
    "\n",
    "ensemble_probs = 0.4 * probs_rf + 0.3 * probs_tree + 0.3 * probs_knn\n",
    "ensemble_pred = (ensemble_probs > 0.5).astype(int)"
   ]
  },
  {
   "cell_type": "markdown",
   "id": "700628aa",
   "metadata": {},
   "source": [
    "## Ocena modeli\n",
    "\n",
    "W tej sekcji oceniane są wszystkie modele przy pomocy metryk:\n",
    "- **Accuracy** – dokładność,\n",
    "- **F1 Score** – miara harmoniczna precyzji i czułości,\n",
    "- **AUC** – pole pod krzywą ROC,\n",
    "- **Macierz pomyłek i raport klasyfikacji**."
   ]
  },
  {
   "cell_type": "code",
   "execution_count": null,
   "id": "0bb922b1",
   "metadata": {},
   "outputs": [],
   "source": [
    "def evaluate_model(y_true, y_pred, name):\n",
    "    print(f\"--- {name} ---\")\n",
    "    print(\"Accuracy:\", accuracy_score(y_true, y_pred))\n",
    "    print(\"F1 Score:\", f1_score(y_true, y_pred))\n",
    "    print(\"AUC:\", roc_auc_score(y_true, y_pred))\n",
    "    print(\"Confusion Matrix:\\n\", confusion_matrix(y_true, y_pred))\n",
    "    print(\"Classification Report:\\n\", classification_report(y_true, y_pred))\n",
    "    print()\n",
    "\n",
    "evaluate_model(y_test, model_knn.predict(X_test), \"kNN\")\n",
    "evaluate_model(y_test, model_tree.predict(X_test), \"Decision Tree\")\n",
    "evaluate_model(y_test, model_rf.predict(X_test), \"Random Forest\")\n",
    "evaluate_model(y_test, ensemble_pred, \"Model Hybrydowy\")"
   ]
  },
  {
   "cell_type": "markdown",
   "id": "31948321",
   "metadata": {},
   "source": [
    "## Walidacja krzyżowa\n",
    "\n",
    "Zastosowano 5-krotną walidację krzyżową dla klasyfikatora lasu losowego, aby ocenić stabilność modelu."
   ]
  },
  {
   "cell_type": "code",
   "execution_count": null,
   "id": "4413dbcc",
   "metadata": {},
   "outputs": [],
   "source": [
    "scores = cross_val_score(model_rf, X_scaled, y, cv=5, scoring='accuracy')\n",
    "print(\"Random Forest - Accuracy (CV=5):\", scores.mean(), \"\\n\")"
   ]
  },
  {
   "cell_type": "markdown",
   "id": "b0f13d54",
   "metadata": {},
   "source": [
    "## Przykładowe predykcje\n",
    "\n",
    "Predykcje wykonywane są na dwóch sztucznych obserwacjach:\n",
    "- **Osoba zdrowa**\n",
    "- **Osoba z ryzykiem cukrzycy**\n",
    "\n",
    "Wartości zmiennych są transformowane i skalowane, a następnie przewidywana jest klasa."
   ]
  },
  {
   "cell_type": "code",
   "execution_count": null,
   "id": "8e9a9d8f",
   "metadata": {},
   "outputs": [],
   "source": [
    "print(\"=== Dane wejściowe dla osoby zdrowej ===\")\n",
    "sample = pd.DataFrame([{\n",
    "    'HighBP': 0, 'HighChol': 0, 'CholCheck': 0, 'BMI': 20, 'Smoker': 1, 'Stroke': 0,\n",
    "    'HeartDiseaseorAttack': 0, 'PhysActivity': 1, 'Fruits': 1, 'Veggies': 1,\n",
    "    'HvyAlcoholConsump': 0, 'AnyHealthcare': 1, 'NoDocbcCost': 1, 'GenHlth': 1,\n",
    "    'MentHlth': 0, 'PhysHlth': 0, 'DiffWalk': 0, 'Sex': 0, 'Age': 22, 'Education': 3, 'Income': 3\n",
    "}])\n",
    "sample[log_cols] = np.log1p(sample[log_cols])\n",
    "sample_scaled = scaler.transform(sample)\n",
    "print(\"Model hybrydowy przewiduje:\", \"Cukrzyca\\n\" if model_rf.predict(sample_scaled) == 1 else \"brak cukrzycy\\n\")\n",
    "\n",
    "print(\"=== Dane wejściowe dla osoby z ryzykiem cukrzycy ===\")\n",
    "sample_risk = pd.DataFrame([{\n",
    "    'HighBP': 1, 'HighChol': 1, 'CholCheck': 1, 'BMI': 31, 'Smoker': 1, 'Stroke': 0,\n",
    "    'HeartDiseaseorAttack': 0, 'PhysActivity': 0, 'Fruits': 0, 'Veggies': 0,\n",
    "    'HvyAlcoholConsump': 0, 'AnyHealthcare': 1, 'NoDocbcCost': 0, 'GenHlth': 3,\n",
    "    'MentHlth': 5, 'PhysHlth': 5, 'DiffWalk': 0, 'Sex': 0, 'Age': 8, 'Education': 3, 'Income': 3\n",
    "}])\n",
    "sample_risk[log_cols] = np.log1p(sample_risk[log_cols])\n",
    "sample_risk_scaled = scaler.transform(sample_risk)\n",
    "print(\"Model hybrydowy przewiduje:\", \"Cukrzyca\" if model_rf.predict(sample_risk_scaled) == 1 else \"brak cukrzycy\")"
   ]
  }
 ],
 "metadata": {
  "language_info": {
   "name": "python"
  }
 },
 "nbformat": 4,
 "nbformat_minor": 5
}
